{
 "cells": [
  {
   "cell_type": "markdown",
   "metadata": {},
   "source": [
    "# Actividad 10: Presentación final\n",
    "#### Victor Noé González Muñoz - A01283565\n",
    "### Data set - \"Amazon Bestselling Books 2009-2019\"\n",
    "#### Esta es una base de datos con 7 columnas y 550 filas. Se muestran los libros Bestsellers de Amazon del 2009 hasta el 2019. Se mencionan los nombres de los autores, títulos de sus obras, fecha de lanzamiento en Amazon, precio, número de críticas, calificación del usuario y género del libro."
   ]
  },
  {
   "cell_type": "code",
   "execution_count": 1,
   "metadata": {},
   "outputs": [],
   "source": [
    "import pandas as pd\n",
    "import numpy as np\n",
    "import matplotlib as mpl\n",
    "import matplotlib.pyplot as plt"
   ]
  },
  {
   "cell_type": "code",
   "execution_count": 2,
   "metadata": {},
   "outputs": [
    {
     "data": {
      "text/html": [
       "<div>\n",
       "<style scoped>\n",
       "    .dataframe tbody tr th:only-of-type {\n",
       "        vertical-align: middle;\n",
       "    }\n",
       "\n",
       "    .dataframe tbody tr th {\n",
       "        vertical-align: top;\n",
       "    }\n",
       "\n",
       "    .dataframe thead th {\n",
       "        text-align: right;\n",
       "    }\n",
       "</style>\n",
       "<table border=\"1\" class=\"dataframe\">\n",
       "  <thead>\n",
       "    <tr style=\"text-align: right;\">\n",
       "      <th></th>\n",
       "      <th>Name</th>\n",
       "      <th>Author</th>\n",
       "      <th>User Rating</th>\n",
       "      <th>Reviews</th>\n",
       "      <th>Price</th>\n",
       "      <th>Year</th>\n",
       "      <th>Genre</th>\n",
       "    </tr>\n",
       "  </thead>\n",
       "  <tbody>\n",
       "    <tr>\n",
       "      <th>0</th>\n",
       "      <td>10-Day Green Smoothie Cleanse</td>\n",
       "      <td>JJ Smith</td>\n",
       "      <td>4.7</td>\n",
       "      <td>17350</td>\n",
       "      <td>8</td>\n",
       "      <td>2016</td>\n",
       "      <td>Non Fiction</td>\n",
       "    </tr>\n",
       "    <tr>\n",
       "      <th>1</th>\n",
       "      <td>11/22/63: A Novel</td>\n",
       "      <td>Stephen King</td>\n",
       "      <td>4.6</td>\n",
       "      <td>2052</td>\n",
       "      <td>22</td>\n",
       "      <td>2011</td>\n",
       "      <td>Fiction</td>\n",
       "    </tr>\n",
       "    <tr>\n",
       "      <th>2</th>\n",
       "      <td>12 Rules for Life: An Antidote to Chaos</td>\n",
       "      <td>Jordan B. Peterson</td>\n",
       "      <td>4.7</td>\n",
       "      <td>18979</td>\n",
       "      <td>15</td>\n",
       "      <td>2018</td>\n",
       "      <td>Non Fiction</td>\n",
       "    </tr>\n",
       "    <tr>\n",
       "      <th>3</th>\n",
       "      <td>1984 (Signet Classics)</td>\n",
       "      <td>George Orwell</td>\n",
       "      <td>4.7</td>\n",
       "      <td>21424</td>\n",
       "      <td>6</td>\n",
       "      <td>2017</td>\n",
       "      <td>Fiction</td>\n",
       "    </tr>\n",
       "    <tr>\n",
       "      <th>4</th>\n",
       "      <td>5,000 Awesome Facts (About Everything!) (Natio...</td>\n",
       "      <td>National Geographic Kids</td>\n",
       "      <td>4.8</td>\n",
       "      <td>7665</td>\n",
       "      <td>12</td>\n",
       "      <td>2019</td>\n",
       "      <td>Non Fiction</td>\n",
       "    </tr>\n",
       "  </tbody>\n",
       "</table>\n",
       "</div>"
      ],
      "text/plain": [
       "                                                Name  \\\n",
       "0                      10-Day Green Smoothie Cleanse   \n",
       "1                                  11/22/63: A Novel   \n",
       "2            12 Rules for Life: An Antidote to Chaos   \n",
       "3                             1984 (Signet Classics)   \n",
       "4  5,000 Awesome Facts (About Everything!) (Natio...   \n",
       "\n",
       "                     Author  User Rating  Reviews  Price  Year        Genre  \n",
       "0                  JJ Smith          4.7    17350      8  2016  Non Fiction  \n",
       "1              Stephen King          4.6     2052     22  2011      Fiction  \n",
       "2        Jordan B. Peterson          4.7    18979     15  2018  Non Fiction  \n",
       "3             George Orwell          4.7    21424      6  2017      Fiction  \n",
       "4  National Geographic Kids          4.8     7665     12  2019  Non Fiction  "
      ]
     },
     "execution_count": 2,
     "metadata": {},
     "output_type": "execute_result"
    }
   ],
   "source": [
    "df = pd.read_csv('datasets/AmazonBestsellers.csv')\n",
    "df.head()"
   ]
  },
  {
   "cell_type": "code",
   "execution_count": 3,
   "metadata": {},
   "outputs": [
    {
     "name": "stdout",
     "output_type": "stream",
     "text": [
      "<class 'pandas.core.frame.DataFrame'>\n",
      "RangeIndex: 550 entries, 0 to 549\n",
      "Data columns (total 7 columns):\n",
      " #   Column       Non-Null Count  Dtype  \n",
      "---  ------       --------------  -----  \n",
      " 0   Name         550 non-null    object \n",
      " 1   Author       550 non-null    object \n",
      " 2   User Rating  550 non-null    float64\n",
      " 3   Reviews      550 non-null    int64  \n",
      " 4   Price        550 non-null    int64  \n",
      " 5   Year         550 non-null    int64  \n",
      " 6   Genre        550 non-null    object \n",
      "dtypes: float64(1), int64(3), object(3)\n",
      "memory usage: 30.2+ KB\n"
     ]
    }
   ],
   "source": [
    "df.info()"
   ]
  },
  {
   "cell_type": "markdown",
   "metadata": {},
   "source": [
    "### Tipos de variables\n",
    "##### Name: Tipo \"Object\" - Nos dice el nombre del libro\n",
    "##### Author: Tipo \"Object\" - Nos dice el autor del libro\n",
    "##### User Rating: Tipo \"Float\" - Nos dice la calificación que le han otorgado los usuarios\n",
    "##### Reviews: Tipo \"Integer\" - Nos dice la cantidad de críticas que ha recibido el libro\n",
    "##### Price: Tipo \"Integer\" - Nos dice el precio en USD del libro\n",
    "##### Year: Tipo \"Integer\" - Nos dice el año en el que salió a la venta en Amazon\n",
    "##### Genre: Tipo \"Object\" - Nos dice si es libro de ficción o no ficción"
   ]
  },
  {
   "cell_type": "code",
   "execution_count": 4,
   "metadata": {},
   "outputs": [
    {
     "data": {
      "text/html": [
       "<div>\n",
       "<style scoped>\n",
       "    .dataframe tbody tr th:only-of-type {\n",
       "        vertical-align: middle;\n",
       "    }\n",
       "\n",
       "    .dataframe tbody tr th {\n",
       "        vertical-align: top;\n",
       "    }\n",
       "\n",
       "    .dataframe thead th {\n",
       "        text-align: right;\n",
       "    }\n",
       "</style>\n",
       "<table border=\"1\" class=\"dataframe\">\n",
       "  <thead>\n",
       "    <tr style=\"text-align: right;\">\n",
       "      <th></th>\n",
       "      <th>count</th>\n",
       "      <th>mean</th>\n",
       "      <th>std</th>\n",
       "      <th>min</th>\n",
       "      <th>25%</th>\n",
       "      <th>50%</th>\n",
       "      <th>75%</th>\n",
       "      <th>max</th>\n",
       "    </tr>\n",
       "  </thead>\n",
       "  <tbody>\n",
       "    <tr>\n",
       "      <th>User Rating</th>\n",
       "      <td>550.0</td>\n",
       "      <td>4.618364</td>\n",
       "      <td>0.226980</td>\n",
       "      <td>3.3</td>\n",
       "      <td>4.5</td>\n",
       "      <td>4.7</td>\n",
       "      <td>4.80</td>\n",
       "      <td>4.9</td>\n",
       "    </tr>\n",
       "    <tr>\n",
       "      <th>Reviews</th>\n",
       "      <td>550.0</td>\n",
       "      <td>11953.281818</td>\n",
       "      <td>11731.132017</td>\n",
       "      <td>37.0</td>\n",
       "      <td>4058.0</td>\n",
       "      <td>8580.0</td>\n",
       "      <td>17253.25</td>\n",
       "      <td>87841.0</td>\n",
       "    </tr>\n",
       "    <tr>\n",
       "      <th>Price</th>\n",
       "      <td>550.0</td>\n",
       "      <td>13.100000</td>\n",
       "      <td>10.842262</td>\n",
       "      <td>0.0</td>\n",
       "      <td>7.0</td>\n",
       "      <td>11.0</td>\n",
       "      <td>16.00</td>\n",
       "      <td>105.0</td>\n",
       "    </tr>\n",
       "    <tr>\n",
       "      <th>Year</th>\n",
       "      <td>550.0</td>\n",
       "      <td>2014.000000</td>\n",
       "      <td>3.165156</td>\n",
       "      <td>2009.0</td>\n",
       "      <td>2011.0</td>\n",
       "      <td>2014.0</td>\n",
       "      <td>2017.00</td>\n",
       "      <td>2019.0</td>\n",
       "    </tr>\n",
       "  </tbody>\n",
       "</table>\n",
       "</div>"
      ],
      "text/plain": [
       "             count          mean           std     min     25%     50%  \\\n",
       "User Rating  550.0      4.618364      0.226980     3.3     4.5     4.7   \n",
       "Reviews      550.0  11953.281818  11731.132017    37.0  4058.0  8580.0   \n",
       "Price        550.0     13.100000     10.842262     0.0     7.0    11.0   \n",
       "Year         550.0   2014.000000      3.165156  2009.0  2011.0  2014.0   \n",
       "\n",
       "                  75%      max  \n",
       "User Rating      4.80      4.9  \n",
       "Reviews      17253.25  87841.0  \n",
       "Price           16.00    105.0  \n",
       "Year          2017.00   2019.0  "
      ]
     },
     "execution_count": 4,
     "metadata": {},
     "output_type": "execute_result"
    }
   ],
   "source": [
    "df.describe().T"
   ]
  },
  {
   "cell_type": "markdown",
   "metadata": {
    "tags": []
   },
   "source": [
    "### Hallazgo 1\n",
    "#### Encontramos que nuestra base de datos cuenta con un promedio de aproximadamente 12,000 críticas con una media de calificación de 4.6 estrellas y un promedio de precio de libros de 13 USD.\n",
    "#### Sobre el precio de los libros, me parece interesante notar el que dentro de nuestros datos se encuentran desde libros gratuitos hasta libros de 105 USD"
   ]
  },
  {
   "cell_type": "code",
   "execution_count": 5,
   "metadata": {},
   "outputs": [],
   "source": [
    "import seaborn as sns"
   ]
  },
  {
   "cell_type": "markdown",
   "metadata": {},
   "source": [
    "## Pregunta 1: ¿Cuáles son los 10 libros con mayor cantidad de críticas y cuál fue su calificación media?"
   ]
  },
  {
   "cell_type": "code",
   "execution_count": 6,
   "metadata": {},
   "outputs": [],
   "source": [
    "pivot = pd.pivot_table(df,\n",
    "                       index = ['Name','Author','Genre'],\n",
    "                       values = ['Reviews','User Rating'],\n",
    "                       aggfunc = {'Reviews':['sum'],'User Rating':['mean']}\n",
    "                      )"
   ]
  },
  {
   "cell_type": "code",
   "execution_count": 7,
   "metadata": {},
   "outputs": [
    {
     "data": {
      "text/html": [
       "<div>\n",
       "<style scoped>\n",
       "    .dataframe tbody tr th:only-of-type {\n",
       "        vertical-align: middle;\n",
       "    }\n",
       "\n",
       "    .dataframe tbody tr th {\n",
       "        vertical-align: top;\n",
       "    }\n",
       "\n",
       "    .dataframe thead tr th {\n",
       "        text-align: left;\n",
       "    }\n",
       "\n",
       "    .dataframe thead tr:last-of-type th {\n",
       "        text-align: right;\n",
       "    }\n",
       "</style>\n",
       "<table border=\"1\" class=\"dataframe\">\n",
       "  <thead>\n",
       "    <tr>\n",
       "      <th></th>\n",
       "      <th></th>\n",
       "      <th></th>\n",
       "      <th>Reviews</th>\n",
       "      <th>User Rating</th>\n",
       "    </tr>\n",
       "    <tr>\n",
       "      <th></th>\n",
       "      <th></th>\n",
       "      <th></th>\n",
       "      <th>sum</th>\n",
       "      <th>mean</th>\n",
       "    </tr>\n",
       "    <tr>\n",
       "      <th>Name</th>\n",
       "      <th>Author</th>\n",
       "      <th>Genre</th>\n",
       "      <th></th>\n",
       "      <th></th>\n",
       "    </tr>\n",
       "  </thead>\n",
       "  <tbody>\n",
       "    <tr>\n",
       "      <th>The Fault in Our Stars</th>\n",
       "      <th>John Green</th>\n",
       "      <th>Fiction</th>\n",
       "      <td>201928</td>\n",
       "      <td>4.7</td>\n",
       "    </tr>\n",
       "    <tr>\n",
       "      <th>Oh, the Places You'll Go!</th>\n",
       "      <th>Dr. Seuss</th>\n",
       "      <th>Fiction</th>\n",
       "      <td>174672</td>\n",
       "      <td>4.9</td>\n",
       "    </tr>\n",
       "    <tr>\n",
       "      <th>Gone Girl</th>\n",
       "      <th>Gillian Flynn</th>\n",
       "      <th>Fiction</th>\n",
       "      <td>171813</td>\n",
       "      <td>4.0</td>\n",
       "    </tr>\n",
       "    <tr>\n",
       "      <th>The Girl on the Train</th>\n",
       "      <th>Paula Hawkins</th>\n",
       "      <th>Fiction</th>\n",
       "      <td>158892</td>\n",
       "      <td>4.1</td>\n",
       "    </tr>\n",
       "    <tr>\n",
       "      <th>Unbroken: A World War II Story of Survival, Resilience, and Redemption</th>\n",
       "      <th>Laura Hillenbrand</th>\n",
       "      <th>Non Fiction</th>\n",
       "      <td>148365</td>\n",
       "      <td>4.8</td>\n",
       "    </tr>\n",
       "    <tr>\n",
       "      <th>The Four Agreements: A Practical Guide to Personal Freedom (A Toltec Wisdom Book)</th>\n",
       "      <th>Don Miguel Ruiz</th>\n",
       "      <th>Non Fiction</th>\n",
       "      <td>139848</td>\n",
       "      <td>4.7</td>\n",
       "    </tr>\n",
       "    <tr>\n",
       "      <th>The Very Hungry Caterpillar</th>\n",
       "      <th>Eric Carle</th>\n",
       "      <th>Fiction</th>\n",
       "      <td>136822</td>\n",
       "      <td>4.9</td>\n",
       "    </tr>\n",
       "    <tr>\n",
       "      <th>To Kill a Mockingbird</th>\n",
       "      <th>Harper Lee</th>\n",
       "      <th>Fiction</th>\n",
       "      <td>131170</td>\n",
       "      <td>4.8</td>\n",
       "    </tr>\n",
       "    <tr>\n",
       "      <th>The 5 Love Languages: The Secret to Love that Lasts</th>\n",
       "      <th>Gary Chapman</th>\n",
       "      <th>Non Fiction</th>\n",
       "      <td>127770</td>\n",
       "      <td>4.8</td>\n",
       "    </tr>\n",
       "    <tr>\n",
       "      <th>How to Win Friends &amp; Influence People</th>\n",
       "      <th>Dale Carnegie</th>\n",
       "      <th>Non Fiction</th>\n",
       "      <td>125005</td>\n",
       "      <td>4.7</td>\n",
       "    </tr>\n",
       "  </tbody>\n",
       "</table>\n",
       "</div>"
      ],
      "text/plain": [
       "                                                                                 Reviews  \\\n",
       "                                                                                     sum   \n",
       "Name                                               Author            Genre                 \n",
       "The Fault in Our Stars                             John Green        Fiction      201928   \n",
       "Oh, the Places You'll Go!                          Dr. Seuss         Fiction      174672   \n",
       "Gone Girl                                          Gillian Flynn     Fiction      171813   \n",
       "The Girl on the Train                              Paula Hawkins     Fiction      158892   \n",
       "Unbroken: A World War II Story of Survival, Res... Laura Hillenbrand Non Fiction  148365   \n",
       "The Four Agreements: A Practical Guide to Perso... Don Miguel Ruiz   Non Fiction  139848   \n",
       "The Very Hungry Caterpillar                        Eric Carle        Fiction      136822   \n",
       "To Kill a Mockingbird                              Harper Lee        Fiction      131170   \n",
       "The 5 Love Languages: The Secret to Love that L... Gary Chapman      Non Fiction  127770   \n",
       "How to Win Friends & Influence People              Dale Carnegie     Non Fiction  125005   \n",
       "\n",
       "                                                                                 User Rating  \n",
       "                                                                                        mean  \n",
       "Name                                               Author            Genre                    \n",
       "The Fault in Our Stars                             John Green        Fiction             4.7  \n",
       "Oh, the Places You'll Go!                          Dr. Seuss         Fiction             4.9  \n",
       "Gone Girl                                          Gillian Flynn     Fiction             4.0  \n",
       "The Girl on the Train                              Paula Hawkins     Fiction             4.1  \n",
       "Unbroken: A World War II Story of Survival, Res... Laura Hillenbrand Non Fiction         4.8  \n",
       "The Four Agreements: A Practical Guide to Perso... Don Miguel Ruiz   Non Fiction         4.7  \n",
       "The Very Hungry Caterpillar                        Eric Carle        Fiction             4.9  \n",
       "To Kill a Mockingbird                              Harper Lee        Fiction             4.8  \n",
       "The 5 Love Languages: The Secret to Love that L... Gary Chapman      Non Fiction         4.8  \n",
       "How to Win Friends & Influence People              Dale Carnegie     Non Fiction         4.7  "
      ]
     },
     "execution_count": 7,
     "metadata": {},
     "output_type": "execute_result"
    }
   ],
   "source": [
    "libros = pivot.sort_values(('Reviews','sum'),ascending=False)\n",
    "top10L = libros.head(10)\n",
    "top10L"
   ]
  },
  {
   "cell_type": "code",
   "execution_count": 8,
   "metadata": {},
   "outputs": [
    {
     "data": {
      "text/html": [
       "<div>\n",
       "<style scoped>\n",
       "    .dataframe tbody tr th:only-of-type {\n",
       "        vertical-align: middle;\n",
       "    }\n",
       "\n",
       "    .dataframe tbody tr th {\n",
       "        vertical-align: top;\n",
       "    }\n",
       "\n",
       "    .dataframe thead th {\n",
       "        text-align: right;\n",
       "    }\n",
       "</style>\n",
       "<table border=\"1\" class=\"dataframe\">\n",
       "  <thead>\n",
       "    <tr style=\"text-align: right;\">\n",
       "      <th></th>\n",
       "      <th></th>\n",
       "      <th>count</th>\n",
       "      <th>mean</th>\n",
       "      <th>std</th>\n",
       "      <th>min</th>\n",
       "      <th>25%</th>\n",
       "      <th>50%</th>\n",
       "      <th>75%</th>\n",
       "      <th>max</th>\n",
       "    </tr>\n",
       "  </thead>\n",
       "  <tbody>\n",
       "    <tr>\n",
       "      <th>Reviews</th>\n",
       "      <th>sum</th>\n",
       "      <td>10.0</td>\n",
       "      <td>151628.50</td>\n",
       "      <td>24914.224220</td>\n",
       "      <td>125005.0</td>\n",
       "      <td>132583.0</td>\n",
       "      <td>144106.50</td>\n",
       "      <td>168582.75</td>\n",
       "      <td>201928.0</td>\n",
       "    </tr>\n",
       "    <tr>\n",
       "      <th>User Rating</th>\n",
       "      <th>mean</th>\n",
       "      <td>10.0</td>\n",
       "      <td>4.64</td>\n",
       "      <td>0.320416</td>\n",
       "      <td>4.0</td>\n",
       "      <td>4.7</td>\n",
       "      <td>4.75</td>\n",
       "      <td>4.80</td>\n",
       "      <td>4.9</td>\n",
       "    </tr>\n",
       "  </tbody>\n",
       "</table>\n",
       "</div>"
      ],
      "text/plain": [
       "                  count       mean           std       min       25%  \\\n",
       "Reviews     sum    10.0  151628.50  24914.224220  125005.0  132583.0   \n",
       "User Rating mean   10.0       4.64      0.320416       4.0       4.7   \n",
       "\n",
       "                        50%        75%       max  \n",
       "Reviews     sum   144106.50  168582.75  201928.0  \n",
       "User Rating mean       4.75       4.80       4.9  "
      ]
     },
     "execution_count": 8,
     "metadata": {},
     "output_type": "execute_result"
    }
   ],
   "source": [
    "top10L.describe().T"
   ]
  },
  {
   "cell_type": "code",
   "execution_count": 9,
   "metadata": {},
   "outputs": [
    {
     "data": {
      "image/png": "[encoded data removed]",
      "text/plain": [
       "<Figure size 1440x720 with 1 Axes>"
      ]
     },
     "metadata": {
      "needs_background": "light"
     },
     "output_type": "display_data"
    }
   ],
   "source": [
    "top10L[('Reviews','sum')].plot(kind='barh',\n",
    "                              figsize = (20,10),\n",
    "                               color = 'r',\n",
    "                               alpha = 0.5\n",
    "                              ).set(title='Top 10 Bestsellers más criticados del 2009-2019')\n",
    "tamaño = 15\n",
    "plt.rc('axes', titlesize=tamaño)"
   ]
  },
  {
   "cell_type": "markdown",
   "metadata": {},
   "source": [
    "#### - La calificación media de los libros con más críticas es de 4.64 y varían de 4 hasta 4.9 estrellas."
   ]
  },
  {
   "cell_type": "code",
   "execution_count": 10,
   "metadata": {},
   "outputs": [
    {
     "data": {
      "image/png": "[encoded data removed]",
      "text/plain": [
       "<Figure size 432x288 with 1 Axes>"
      ]
     },
     "metadata": {},
     "output_type": "display_data"
    }
   ],
   "source": [
    "Genre = [6,4]\n",
    "my_labels = 'Fiction','Non Fiction'\n",
    "plt.pie(Genre,labels=my_labels,autopct='%10.1f%%')\n",
    "plt.title('Género top 10 Bestsellers más criticados del 2009-2019')\n",
    "plt.axis('equal')\n",
    "plt.show()"
   ]
  },
  {
   "cell_type": "markdown",
   "metadata": {},
   "source": [
    "#### - El género de libros con más criticas del 2009 al 2019 son los de ficción."
   ]
  },
  {
   "cell_type": "markdown",
   "metadata": {},
   "source": [
    "## Pregunta 2: ¿Cuáles son los 10 autores más criticados y cuál es la calificación media de sus libros?"
   ]
  },
  {
   "cell_type": "code",
   "execution_count": 11,
   "metadata": {},
   "outputs": [],
   "source": [
    "pivot1 = pd.pivot_table(df,\n",
    "                       index = ['Author'],\n",
    "                       values = ['Reviews','User Rating'],\n",
    "                       aggfunc = {'Reviews':['sum'],'User Rating':['mean']}\n",
    "                      )"
   ]
  },
  {
   "cell_type": "code",
   "execution_count": 12,
   "metadata": {},
   "outputs": [
    {
     "data": {
      "text/html": [
       "<div>\n",
       "<style scoped>\n",
       "    .dataframe tbody tr th:only-of-type {\n",
       "        vertical-align: middle;\n",
       "    }\n",
       "\n",
       "    .dataframe tbody tr th {\n",
       "        vertical-align: top;\n",
       "    }\n",
       "\n",
       "    .dataframe thead tr th {\n",
       "        text-align: left;\n",
       "    }\n",
       "\n",
       "    .dataframe thead tr:last-of-type th {\n",
       "        text-align: right;\n",
       "    }\n",
       "</style>\n",
       "<table border=\"1\" class=\"dataframe\">\n",
       "  <thead>\n",
       "    <tr>\n",
       "      <th></th>\n",
       "      <th>Reviews</th>\n",
       "      <th>User Rating</th>\n",
       "    </tr>\n",
       "    <tr>\n",
       "      <th></th>\n",
       "      <th>sum</th>\n",
       "      <th>mean</th>\n",
       "    </tr>\n",
       "    <tr>\n",
       "      <th>Author</th>\n",
       "      <th></th>\n",
       "      <th></th>\n",
       "    </tr>\n",
       "  </thead>\n",
       "  <tbody>\n",
       "    <tr>\n",
       "      <th>Suzanne Collins</th>\n",
       "      <td>278329</td>\n",
       "      <td>4.663636</td>\n",
       "    </tr>\n",
       "    <tr>\n",
       "      <th>John Green</th>\n",
       "      <td>210419</td>\n",
       "      <td>4.660000</td>\n",
       "    </tr>\n",
       "    <tr>\n",
       "      <th>E L James</th>\n",
       "      <td>178011</td>\n",
       "      <td>4.233333</td>\n",
       "    </tr>\n",
       "    <tr>\n",
       "      <th>Dr. Seuss</th>\n",
       "      <td>176545</td>\n",
       "      <td>4.877778</td>\n",
       "    </tr>\n",
       "    <tr>\n",
       "      <th>Gillian Flynn</th>\n",
       "      <td>171813</td>\n",
       "      <td>4.000000</td>\n",
       "    </tr>\n",
       "    <tr>\n",
       "      <th>Paula Hawkins</th>\n",
       "      <td>158892</td>\n",
       "      <td>4.100000</td>\n",
       "    </tr>\n",
       "    <tr>\n",
       "      <th>Laura Hillenbrand</th>\n",
       "      <td>148365</td>\n",
       "      <td>4.800000</td>\n",
       "    </tr>\n",
       "    <tr>\n",
       "      <th>Harper Lee</th>\n",
       "      <td>146152</td>\n",
       "      <td>4.600000</td>\n",
       "    </tr>\n",
       "    <tr>\n",
       "      <th>Gary Chapman</th>\n",
       "      <td>145958</td>\n",
       "      <td>4.736364</td>\n",
       "    </tr>\n",
       "    <tr>\n",
       "      <th>Don Miguel Ruiz</th>\n",
       "      <td>139848</td>\n",
       "      <td>4.700000</td>\n",
       "    </tr>\n",
       "  </tbody>\n",
       "</table>\n",
       "</div>"
      ],
      "text/plain": [
       "                  Reviews User Rating\n",
       "                      sum        mean\n",
       "Author                               \n",
       "Suzanne Collins    278329    4.663636\n",
       "John Green         210419    4.660000\n",
       "E L James          178011    4.233333\n",
       "Dr. Seuss          176545    4.877778\n",
       "Gillian Flynn      171813    4.000000\n",
       "Paula Hawkins      158892    4.100000\n",
       "Laura Hillenbrand  148365    4.800000\n",
       "Harper Lee         146152    4.600000\n",
       "Gary Chapman       145958    4.736364\n",
       "Don Miguel Ruiz    139848    4.700000"
      ]
     },
     "execution_count": 12,
     "metadata": {},
     "output_type": "execute_result"
    }
   ],
   "source": [
    "autores = pivot1.sort_values(('Reviews','sum'),ascending=False)\n",
    "top10a = autores.head(10)\n",
    "top10a"
   ]
  },
  {
   "cell_type": "code",
   "execution_count": 13,
   "metadata": {},
   "outputs": [
    {
     "data": {
      "text/html": [
       "<div>\n",
       "<style scoped>\n",
       "    .dataframe tbody tr th:only-of-type {\n",
       "        vertical-align: middle;\n",
       "    }\n",
       "\n",
       "    .dataframe tbody tr th {\n",
       "        vertical-align: top;\n",
       "    }\n",
       "\n",
       "    .dataframe thead th {\n",
       "        text-align: right;\n",
       "    }\n",
       "</style>\n",
       "<table border=\"1\" class=\"dataframe\">\n",
       "  <thead>\n",
       "    <tr style=\"text-align: right;\">\n",
       "      <th></th>\n",
       "      <th></th>\n",
       "      <th>count</th>\n",
       "      <th>mean</th>\n",
       "      <th>std</th>\n",
       "      <th>min</th>\n",
       "      <th>25%</th>\n",
       "      <th>50%</th>\n",
       "      <th>75%</th>\n",
       "      <th>max</th>\n",
       "    </tr>\n",
       "  </thead>\n",
       "  <tbody>\n",
       "    <tr>\n",
       "      <th>Reviews</th>\n",
       "      <th>sum</th>\n",
       "      <td>10.0</td>\n",
       "      <td>175433.200000</td>\n",
       "      <td>41940.858037</td>\n",
       "      <td>139848.0</td>\n",
       "      <td>146705.250</td>\n",
       "      <td>165352.500000</td>\n",
       "      <td>177644.500000</td>\n",
       "      <td>278329.000000</td>\n",
       "    </tr>\n",
       "    <tr>\n",
       "      <th>User Rating</th>\n",
       "      <th>mean</th>\n",
       "      <td>10.0</td>\n",
       "      <td>4.537111</td>\n",
       "      <td>0.308815</td>\n",
       "      <td>4.0</td>\n",
       "      <td>4.325</td>\n",
       "      <td>4.661818</td>\n",
       "      <td>4.727273</td>\n",
       "      <td>4.877778</td>\n",
       "    </tr>\n",
       "  </tbody>\n",
       "</table>\n",
       "</div>"
      ],
      "text/plain": [
       "                  count           mean           std       min         25%  \\\n",
       "Reviews     sum    10.0  175433.200000  41940.858037  139848.0  146705.250   \n",
       "User Rating mean   10.0       4.537111      0.308815       4.0       4.325   \n",
       "\n",
       "                            50%            75%            max  \n",
       "Reviews     sum   165352.500000  177644.500000  278329.000000  \n",
       "User Rating mean       4.661818       4.727273       4.877778  "
      ]
     },
     "execution_count": 13,
     "metadata": {},
     "output_type": "execute_result"
    }
   ],
   "source": [
    "top10a.describe().T"
   ]
  },
  {
   "cell_type": "code",
   "execution_count": 14,
   "metadata": {},
   "outputs": [
    {
     "data": {
      "image/png": "[encoded data removed]",
      "text/plain": [
       "<Figure size 1440x720 with 1 Axes>"
      ]
     },
     "metadata": {
      "needs_background": "light"
     },
     "output_type": "display_data"
    }
   ],
   "source": [
    "top10a[('Reviews','sum')].plot(kind='bar',\n",
    "                              figsize = (20,10),\n",
    "                               color = 'g',\n",
    "                               alpha = 0.5\n",
    "                              ).set(title='Top 10 Autores Bestsellers más criticados del 2009-2019')\n",
    "tamaño = 15\n",
    "plt.rc('axes', titlesize=tamaño)"
   ]
  },
  {
   "cell_type": "markdown",
   "metadata": {},
   "source": [
    "### Hallazgo 2\n",
    "#### Los libros y autores más criticados, tienen una calificación promedio de aproximadamente 4.5 estrellas (5 es la calificación máxima)."
   ]
  },
  {
   "cell_type": "markdown",
   "metadata": {},
   "source": [
    "## Pregunta 3: ¿Existe una relación entre el precio y la calificación del usuario al libro?"
   ]
  },
  {
   "cell_type": "code",
   "execution_count": 64,
   "metadata": {},
   "outputs": [
    {
     "data": {
      "text/plain": [
       "Text(0, 0.5, 'Price')"
      ]
     },
     "execution_count": 64,
     "metadata": {},
     "output_type": "execute_result"
    },
    {
     "data": {
      "image/png": "[encoded data removed]",
      "text/plain": [
       "<Figure size 576x432 with 1 Axes>"
      ]
     },
     "metadata": {
      "needs_background": "light"
     },
     "output_type": "display_data"
    }
   ],
   "source": [
    "x = df['User Rating'].values\n",
    "y = df['Price'].values\n",
    "plt.figure(figsize=(8, 6))\n",
    "plt.scatter(x,y,color='b')\n",
    "z = np.polyfit(x, y, 1)\n",
    "p = np.poly1d(z)\n",
    "plt.plot(x,p(x),\"r--\")\n",
    "plt.title('Relación entre Precio y Calificación',fontsize=15)\n",
    "plt.xlabel('User Rating',fontsize=12)\n",
    "plt.ylabel('Price',fontsize=12)"
   ]
  },
  {
   "cell_type": "markdown",
   "metadata": {},
   "source": [
    "### Hallazgo 3\n",
    "#### Se observa una ligera tendencia negativa en el análisis de dispersión, lo que quiere decir que los libros de menor precio suelen ser los mejores calificados."
   ]
  },
  {
   "cell_type": "code",
   "execution_count": 16,
   "metadata": {},
   "outputs": [
    {
     "data": {
      "text/html": [
       "<div>\n",
       "<style scoped>\n",
       "    .dataframe tbody tr th:only-of-type {\n",
       "        vertical-align: middle;\n",
       "    }\n",
       "\n",
       "    .dataframe tbody tr th {\n",
       "        vertical-align: top;\n",
       "    }\n",
       "\n",
       "    .dataframe thead tr th {\n",
       "        text-align: left;\n",
       "    }\n",
       "\n",
       "    .dataframe thead tr:last-of-type th {\n",
       "        text-align: right;\n",
       "    }\n",
       "</style>\n",
       "<table border=\"1\" class=\"dataframe\">\n",
       "  <thead>\n",
       "    <tr>\n",
       "      <th></th>\n",
       "      <th>Price</th>\n",
       "      <th>Reviews</th>\n",
       "    </tr>\n",
       "    <tr>\n",
       "      <th></th>\n",
       "      <th>mean</th>\n",
       "      <th>mean</th>\n",
       "    </tr>\n",
       "    <tr>\n",
       "      <th>User Rating</th>\n",
       "      <th></th>\n",
       "      <th></th>\n",
       "    </tr>\n",
       "  </thead>\n",
       "  <tbody>\n",
       "    <tr>\n",
       "      <th>3.3</th>\n",
       "      <td>12.000000</td>\n",
       "      <td>9372.000000</td>\n",
       "    </tr>\n",
       "    <tr>\n",
       "      <th>3.6</th>\n",
       "      <td>19.000000</td>\n",
       "      <td>14982.000000</td>\n",
       "    </tr>\n",
       "    <tr>\n",
       "      <th>3.8</th>\n",
       "      <td>14.000000</td>\n",
       "      <td>47265.000000</td>\n",
       "    </tr>\n",
       "    <tr>\n",
       "      <th>3.9</th>\n",
       "      <td>17.666667</td>\n",
       "      <td>24666.000000</td>\n",
       "    </tr>\n",
       "    <tr>\n",
       "      <th>4.0</th>\n",
       "      <td>14.642857</td>\n",
       "      <td>17376.142857</td>\n",
       "    </tr>\n",
       "    <tr>\n",
       "      <th>4.1</th>\n",
       "      <td>11.666667</td>\n",
       "      <td>32384.166667</td>\n",
       "    </tr>\n",
       "    <tr>\n",
       "      <th>4.2</th>\n",
       "      <td>11.625000</td>\n",
       "      <td>4283.500000</td>\n",
       "    </tr>\n",
       "    <tr>\n",
       "      <th>4.3</th>\n",
       "      <td>13.280000</td>\n",
       "      <td>8362.880000</td>\n",
       "    </tr>\n",
       "    <tr>\n",
       "      <th>4.4</th>\n",
       "      <td>14.447368</td>\n",
       "      <td>7038.973684</td>\n",
       "    </tr>\n",
       "    <tr>\n",
       "      <th>4.5</th>\n",
       "      <td>20.933333</td>\n",
       "      <td>9231.116667</td>\n",
       "    </tr>\n",
       "    <tr>\n",
       "      <th>4.6</th>\n",
       "      <td>12.095238</td>\n",
       "      <td>9260.038095</td>\n",
       "    </tr>\n",
       "    <tr>\n",
       "      <th>4.7</th>\n",
       "      <td>12.990741</td>\n",
       "      <td>13660.925926</td>\n",
       "    </tr>\n",
       "    <tr>\n",
       "      <th>4.8</th>\n",
       "      <td>10.866142</td>\n",
       "      <td>13840.110236</td>\n",
       "    </tr>\n",
       "    <tr>\n",
       "      <th>4.9</th>\n",
       "      <td>10.288462</td>\n",
       "      <td>12957.423077</td>\n",
       "    </tr>\n",
       "  </tbody>\n",
       "</table>\n",
       "</div>"
      ],
      "text/plain": [
       "                 Price       Reviews\n",
       "                  mean          mean\n",
       "User Rating                         \n",
       "3.3          12.000000   9372.000000\n",
       "3.6          19.000000  14982.000000\n",
       "3.8          14.000000  47265.000000\n",
       "3.9          17.666667  24666.000000\n",
       "4.0          14.642857  17376.142857\n",
       "4.1          11.666667  32384.166667\n",
       "4.2          11.625000   4283.500000\n",
       "4.3          13.280000   8362.880000\n",
       "4.4          14.447368   7038.973684\n",
       "4.5          20.933333   9231.116667\n",
       "4.6          12.095238   9260.038095\n",
       "4.7          12.990741  13660.925926\n",
       "4.8          10.866142  13840.110236\n",
       "4.9          10.288462  12957.423077"
      ]
     },
     "execution_count": 16,
     "metadata": {},
     "output_type": "execute_result"
    }
   ],
   "source": [
    "pivot2 = pd.pivot_table(df,\n",
    "                       index = ['User Rating'],\n",
    "                       values = ['Price','Reviews'],\n",
    "                       aggfunc = {'Price':['mean'],'Reviews':['mean']}\n",
    "                      )\n",
    "pivot2"
   ]
  },
  {
   "cell_type": "markdown",
   "metadata": {},
   "source": [
    "### Hallazgo 3.1\n",
    "#### Los libros más baratos tienen en promedio mejor calificación."
   ]
  },
  {
   "cell_type": "markdown",
   "metadata": {},
   "source": [
    "## Pregunta 4: ¿Qué genero tiene mejor calificación por el usuario?"
   ]
  },
  {
   "cell_type": "code",
   "execution_count": 17,
   "metadata": {},
   "outputs": [],
   "source": [
    "pivot3 = pd.pivot_table(df,\n",
    "                        index = ['Name'],\n",
    "                        columns = ['Genre'],\n",
    "                        values = ['User Rating'],\n",
    "                        aggfunc = {'User Rating':['median']}\n",
    "                      )"
   ]
  },
  {
   "cell_type": "code",
   "execution_count": 18,
   "metadata": {},
   "outputs": [
    {
     "data": {
      "image/png": "[encoded data removed]",
      "text/plain": [
       "<Figure size 432x288 with 1 Axes>"
      ]
     },
     "metadata": {
      "needs_background": "light"
     },
     "output_type": "display_data"
    }
   ],
   "source": [
    "boxplot = pivot3.boxplot(column=[('User Rating', 'median', 'Fiction')]).set(title='Diagrama de caja: Fiction & Price')"
   ]
  },
  {
   "cell_type": "code",
   "execution_count": 19,
   "metadata": {},
   "outputs": [
    {
     "data": {
      "image/png": "[encoded data removed]",
      "text/plain": [
       "<Figure size 432x288 with 1 Axes>"
      ]
     },
     "metadata": {
      "needs_background": "light"
     },
     "output_type": "display_data"
    }
   ],
   "source": [
    "boxplot = pivot3.boxplot(column=[('User Rating', 'median', 'Non Fiction')]).set(title='Diagrama de caja: Non Fiction & Price')"
   ]
  },
  {
   "cell_type": "markdown",
   "metadata": {},
   "source": [
    "### Hallazgo 4\n",
    "#### Se puede observar que ligeramente, los libros de ficción tienen mejor calificación que los que no son ficción."
   ]
  },
  {
   "cell_type": "markdown",
   "metadata": {},
   "source": [
    "## Pregunta 5: ¿Cómo han variado las críticas con el paso del tiempo?"
   ]
  },
  {
   "cell_type": "code",
   "execution_count": 20,
   "metadata": {},
   "outputs": [],
   "source": [
    "pivot4 = pd.pivot_table(df,\n",
    "                        index = ['Year'],\n",
    "                        columns = ['Genre'],\n",
    "                        values = ['Reviews'],\n",
    "                      )"
   ]
  },
  {
   "cell_type": "code",
   "execution_count": 21,
   "metadata": {},
   "outputs": [
    {
     "data": {
      "image/png": "[encoded data removed]",
      "text/plain": [
       "<Figure size 1440x720 with 1 Axes>"
      ]
     },
     "metadata": {
      "needs_background": "light"
     },
     "output_type": "display_data"
    }
   ],
   "source": [
    "pivot4[('Reviews')].plot(kind='line',\n",
    "                              figsize = (20,10),\n",
    "                               color = ['g','r'],\n",
    "                               alpha = 0.5\n",
    "                              ).set(title='Número de críticas por género del 2009-2019')\n",
    "tamaño = 15\n",
    "plt.rc('axes', titlesize=tamaño)"
   ]
  },
  {
   "cell_type": "markdown",
   "metadata": {},
   "source": [
    "### Hallazgo 5\n",
    "#### - El género de ficción es el más criticado con el paso del tiempo. \n",
    "#### - En los libros de ficción se observan picos en las críticas del 2012 hasta el 2015.\n",
    "#### - Mientras que en los libros que no son de ficción muestran una tendencia constante y positiva. "
   ]
  },
  {
   "cell_type": "markdown",
   "metadata": {},
   "source": [
    "## Pregunta 6: ¿Cuál es el impacto del género, año y cantidad de críticas en el precio del libro?"
   ]
  },
  {
   "cell_type": "code",
   "execution_count": 26,
   "metadata": {},
   "outputs": [],
   "source": [
    "import statsmodels.api as sm\n",
    "from sklearn import linear_model"
   ]
  },
  {
   "cell_type": "code",
   "execution_count": 27,
   "metadata": {},
   "outputs": [
    {
     "data": {
      "text/html": [
       "<table class=\"simpletable\">\n",
       "<caption>OLS Regression Results</caption>\n",
       "<tr>\n",
       "  <th>Dep. Variable:</th>          <td>Price</td>      <th>  R-squared:         </th> <td>   0.059</td>\n",
       "</tr>\n",
       "<tr>\n",
       "  <th>Model:</th>                   <td>OLS</td>       <th>  Adj. R-squared:    </th> <td>   0.053</td>\n",
       "</tr>\n",
       "<tr>\n",
       "  <th>Method:</th>             <td>Least Squares</td>  <th>  F-statistic:       </th> <td>   11.33</td>\n",
       "</tr>\n",
       "<tr>\n",
       "  <th>Date:</th>             <td>Sat, 04 Dec 2021</td> <th>  Prob (F-statistic):</th> <td>3.23e-07</td>\n",
       "</tr>\n",
       "<tr>\n",
       "  <th>Time:</th>                 <td>00:15:37</td>     <th>  Log-Likelihood:    </th> <td> -2074.2</td>\n",
       "</tr>\n",
       "<tr>\n",
       "  <th>No. Observations:</th>      <td>   550</td>      <th>  AIC:               </th> <td>   4156.</td>\n",
       "</tr>\n",
       "<tr>\n",
       "  <th>Df Residuals:</th>          <td>   546</td>      <th>  BIC:               </th> <td>   4174.</td>\n",
       "</tr>\n",
       "<tr>\n",
       "  <th>Df Model:</th>              <td>     3</td>      <th>                     </th>     <td> </td>   \n",
       "</tr>\n",
       "<tr>\n",
       "  <th>Covariance Type:</th>      <td>nonrobust</td>    <th>                     </th>     <td> </td>   \n",
       "</tr>\n",
       "</table>\n",
       "<table class=\"simpletable\">\n",
       "<tr>\n",
       "            <td></td>              <th>coef</th>     <th>std err</th>      <th>t</th>      <th>P>|t|</th>  <th>[0.025</th>    <th>0.975]</th>  \n",
       "</tr>\n",
       "<tr>\n",
       "  <th>Intercept</th>            <td> 1066.2718</td> <td>  298.340</td> <td>    3.574</td> <td> 0.000</td> <td>  480.238</td> <td> 1652.306</td>\n",
       "</tr>\n",
       "<tr>\n",
       "  <th>Genre[T.Non Fiction]</th> <td>    3.9502</td> <td>    0.950</td> <td>    4.159</td> <td> 0.000</td> <td>    2.085</td> <td>    5.816</td>\n",
       "</tr>\n",
       "<tr>\n",
       "  <th>Year</th>                 <td>   -0.5239</td> <td>    0.148</td> <td>   -3.535</td> <td> 0.000</td> <td>   -0.815</td> <td>   -0.233</td>\n",
       "</tr>\n",
       "<tr>\n",
       "  <th>Reviews</th>              <td>-1.684e-05</td> <td> 4.17e-05</td> <td>   -0.404</td> <td> 0.686</td> <td>-9.87e-05</td> <td>  6.5e-05</td>\n",
       "</tr>\n",
       "</table>\n",
       "<table class=\"simpletable\">\n",
       "<tr>\n",
       "  <th>Omnibus:</th>       <td>476.498</td> <th>  Durbin-Watson:     </th> <td>   1.198</td> \n",
       "</tr>\n",
       "<tr>\n",
       "  <th>Prob(Omnibus):</th> <td> 0.000</td>  <th>  Jarque-Bera (JB):  </th> <td>13384.879</td>\n",
       "</tr>\n",
       "<tr>\n",
       "  <th>Skew:</th>          <td> 3.713</td>  <th>  Prob(JB):          </th> <td>    0.00</td> \n",
       "</tr>\n",
       "<tr>\n",
       "  <th>Kurtosis:</th>      <td>25.998</td>  <th>  Cond. No.          </th> <td>1.11e+07</td> \n",
       "</tr>\n",
       "</table><br/><br/>Notes:<br/>[1] Standard Errors assume that the covariance matrix of the errors is correctly specified.<br/>[2] The condition number is large, 1.11e+07. This might indicate that there are<br/>strong multicollinearity or other numerical problems."
      ],
      "text/plain": [
       "<class 'statsmodels.iolib.summary.Summary'>\n",
       "\"\"\"\n",
       "                            OLS Regression Results                            \n",
       "==============================================================================\n",
       "Dep. Variable:                  Price   R-squared:                       0.059\n",
       "Model:                            OLS   Adj. R-squared:                  0.053\n",
       "Method:                 Least Squares   F-statistic:                     11.33\n",
       "Date:                Sat, 04 Dec 2021   Prob (F-statistic):           3.23e-07\n",
       "Time:                        00:15:37   Log-Likelihood:                -2074.2\n",
       "No. Observations:                 550   AIC:                             4156.\n",
       "Df Residuals:                     546   BIC:                             4174.\n",
       "Df Model:                           3                                         \n",
       "Covariance Type:            nonrobust                                         \n",
       "========================================================================================\n",
       "                           coef    std err          t      P>|t|      [0.025      0.975]\n",
       "----------------------------------------------------------------------------------------\n",
       "Intercept             1066.2718    298.340      3.574      0.000     480.238    1652.306\n",
       "Genre[T.Non Fiction]     3.9502      0.950      4.159      0.000       2.085       5.816\n",
       "Year                    -0.5239      0.148     -3.535      0.000      -0.815      -0.233\n",
       "Reviews              -1.684e-05   4.17e-05     -0.404      0.686   -9.87e-05     6.5e-05\n",
       "==============================================================================\n",
       "Omnibus:                      476.498   Durbin-Watson:                   1.198\n",
       "Prob(Omnibus):                  0.000   Jarque-Bera (JB):            13384.879\n",
       "Skew:                           3.713   Prob(JB):                         0.00\n",
       "Kurtosis:                      25.998   Cond. No.                     1.11e+07\n",
       "==============================================================================\n",
       "\n",
       "Notes:\n",
       "[1] Standard Errors assume that the covariance matrix of the errors is correctly specified.\n",
       "[2] The condition number is large, 1.11e+07. This might indicate that there are\n",
       "strong multicollinearity or other numerical problems.\n",
       "\"\"\""
      ]
     },
     "execution_count": 27,
     "metadata": {},
     "output_type": "execute_result"
    }
   ],
   "source": [
    "modelA = sm.OLS.from_formula('Price ~ Genre + Year + Reviews',data = df)\n",
    "resultA = modelA = modelA.fit()\n",
    "resultA.summary()"
   ]
  },
  {
   "cell_type": "markdown",
   "metadata": {},
   "source": [
    "### Observaciones:\n",
    "* Variable dependiente: Price\n",
    "*Variable independiente: Genre, Year, Reviews\n",
    "*R-squared: 0.059; por lo tanto, este modelo no es para nada eficiente. Explica únicamente el 5.9% del precio.\n",
    "*Df Model: 3\n",
    "*Intercept: 1066.2718 > 0.05, no es estadísticamente significativo \n",
    "\n",
    "`Price = 1066.2718 + 3.9502*Genre_Non Fiction - 0.5239*Year - 1.684e-05*Reviews`\n",
    "\n",
    "### Case study 1 - \"10-Day Green Smoothie Cleanse\":\n",
    "Df Model: 3\n",
    "* Genre = Non Fiction\n",
    "* Year = 2016\n",
    "* Reviews = 17350"
   ]
  },
  {
   "cell_type": "code",
   "execution_count": 66,
   "metadata": {},
   "outputs": [
    {
     "name": "stdout",
     "output_type": "stream",
     "text": [
      "Precio de un libro de no ficción, del 2016 con 17350 crítcas \t 13.747425999999837\n",
      "La diferencia de precio es de\t 5.747425999999837 dólares\n"
     ]
    }
   ],
   "source": [
    "print('Precio de un libro de no ficción, del 2016 con 17350 crítcas \\t', 1066.2718 + 3.9502*1 - 0.5239*2016 - 1.684e-05*17350)\n",
    "print('La diferencia de precio es de\\t', 1066.2718 + 3.9502*1 - 0.5239*2016 - 1.684e-05*17350 - 8, 'dólares')"
   ]
  },
  {
   "cell_type": "code",
   "execution_count": 29,
   "metadata": {},
   "outputs": [
    {
     "data": {
      "text/html": [
       "<div>\n",
       "<style scoped>\n",
       "    .dataframe tbody tr th:only-of-type {\n",
       "        vertical-align: middle;\n",
       "    }\n",
       "\n",
       "    .dataframe tbody tr th {\n",
       "        vertical-align: top;\n",
       "    }\n",
       "\n",
       "    .dataframe thead th {\n",
       "        text-align: right;\n",
       "    }\n",
       "</style>\n",
       "<table border=\"1\" class=\"dataframe\">\n",
       "  <thead>\n",
       "    <tr style=\"text-align: right;\">\n",
       "      <th></th>\n",
       "      <th>Name</th>\n",
       "      <th>Author</th>\n",
       "      <th>User Rating</th>\n",
       "      <th>Reviews</th>\n",
       "      <th>Price</th>\n",
       "      <th>Year</th>\n",
       "      <th>Genre</th>\n",
       "    </tr>\n",
       "  </thead>\n",
       "  <tbody>\n",
       "    <tr>\n",
       "      <th>0</th>\n",
       "      <td>10-Day Green Smoothie Cleanse</td>\n",
       "      <td>JJ Smith</td>\n",
       "      <td>4.7</td>\n",
       "      <td>17350</td>\n",
       "      <td>8</td>\n",
       "      <td>2016</td>\n",
       "      <td>Non Fiction</td>\n",
       "    </tr>\n",
       "    <tr>\n",
       "      <th>1</th>\n",
       "      <td>11/22/63: A Novel</td>\n",
       "      <td>Stephen King</td>\n",
       "      <td>4.6</td>\n",
       "      <td>2052</td>\n",
       "      <td>22</td>\n",
       "      <td>2011</td>\n",
       "      <td>Fiction</td>\n",
       "    </tr>\n",
       "    <tr>\n",
       "      <th>2</th>\n",
       "      <td>12 Rules for Life: An Antidote to Chaos</td>\n",
       "      <td>Jordan B. Peterson</td>\n",
       "      <td>4.7</td>\n",
       "      <td>18979</td>\n",
       "      <td>15</td>\n",
       "      <td>2018</td>\n",
       "      <td>Non Fiction</td>\n",
       "    </tr>\n",
       "    <tr>\n",
       "      <th>3</th>\n",
       "      <td>1984 (Signet Classics)</td>\n",
       "      <td>George Orwell</td>\n",
       "      <td>4.7</td>\n",
       "      <td>21424</td>\n",
       "      <td>6</td>\n",
       "      <td>2017</td>\n",
       "      <td>Fiction</td>\n",
       "    </tr>\n",
       "    <tr>\n",
       "      <th>4</th>\n",
       "      <td>5,000 Awesome Facts (About Everything!) (Natio...</td>\n",
       "      <td>National Geographic Kids</td>\n",
       "      <td>4.8</td>\n",
       "      <td>7665</td>\n",
       "      <td>12</td>\n",
       "      <td>2019</td>\n",
       "      <td>Non Fiction</td>\n",
       "    </tr>\n",
       "  </tbody>\n",
       "</table>\n",
       "</div>"
      ],
      "text/plain": [
       "                                                Name  \\\n",
       "0                      10-Day Green Smoothie Cleanse   \n",
       "1                                  11/22/63: A Novel   \n",
       "2            12 Rules for Life: An Antidote to Chaos   \n",
       "3                             1984 (Signet Classics)   \n",
       "4  5,000 Awesome Facts (About Everything!) (Natio...   \n",
       "\n",
       "                     Author  User Rating  Reviews  Price  Year        Genre  \n",
       "0                  JJ Smith          4.7    17350      8  2016  Non Fiction  \n",
       "1              Stephen King          4.6     2052     22  2011      Fiction  \n",
       "2        Jordan B. Peterson          4.7    18979     15  2018  Non Fiction  \n",
       "3             George Orwell          4.7    21424      6  2017      Fiction  \n",
       "4  National Geographic Kids          4.8     7665     12  2019  Non Fiction  "
      ]
     },
     "execution_count": 29,
     "metadata": {},
     "output_type": "execute_result"
    }
   ],
   "source": [
    "df.head(5)"
   ]
  },
  {
   "cell_type": "markdown",
   "metadata": {},
   "source": [
    "### Case study 2 - \"5000 Awesome Facts\":\n",
    "Df Model: 3\n",
    "* Genre = Non Fiction\n",
    "* Year = 2015\n",
    "* Reviews = 7665"
   ]
  },
  {
   "cell_type": "code",
   "execution_count": 67,
   "metadata": {},
   "outputs": [
    {
     "name": "stdout",
     "output_type": "stream",
     "text": [
      "Precio de un libro de no ficción, del 2019 con 7665 crítcas \t 12.338821399999873\n",
      "La diferencia de precio es de\t 0.3388213999998726 dólares\n"
     ]
    }
   ],
   "source": [
    "print('Precio de un libro de no ficción, del 2019 con 7665 crítcas \\t', 1066.2718 + 3.9502*1 - 0.5239*2019 - 1.684e-05*7665)\n",
    "print('La diferencia de precio es de\\t', 1066.2718 + 3.9502*1 - 0.5239*2019 - 1.684e-05*7665 - 12, 'dólares')"
   ]
  },
  {
   "cell_type": "markdown",
   "metadata": {},
   "source": [
    "### - Como se puede observar, la diferencia obtenida varía mucho, puede que nuestro modelo se equivoque por centavos o decenas de dólares."
   ]
  },
  {
   "cell_type": "code",
   "execution_count": 58,
   "metadata": {},
   "outputs": [
    {
     "data": {
      "text/plain": [
       "Text(0.5, 1.0, 'Gráfica de residuos')"
      ]
     },
     "execution_count": 58,
     "metadata": {},
     "output_type": "execute_result"
    },
    {
     "data": {
      "image/png": "[encoded data removed]",
      "text/plain": [
       "<Figure size 864x720 with 1 Axes>"
      ]
     },
     "metadata": {
      "needs_background": "light"
     },
     "output_type": "display_data"
    }
   ],
   "source": [
    "RESIA = resultA.resid\n",
    "plt.figure(figsize=(12, 10))\n",
    "resi_plot = sns.scatterplot(x = resultA.fittedvalues,\n",
    "                            y = RESIA\n",
    "                           )\n",
    "plt.title(\"Gráfica de residuos\", fontsize = 20)"
   ]
  },
  {
   "cell_type": "markdown",
   "metadata": {},
   "source": [
    "## Conclusión:\n",
    "#### - Con esta base de datos y con las variables que se cuentan, es complicado predecir el precio de un libro. El modelo creado en la parte superior no es confiable. \n",
    "#### - Que un libro o un autor cuente con tantas críticas, no quiere decir que sea malo. Al contrario, los libros y autores más criticados, tienen una calificación promedio de aproximadamente 4.5 estrellas (5 es la calificación máxima).\n",
    "#### - Los libros con precio por debajo del promedio (13 USD) tienden a tener una calificación media de 4.6 a 4.9 estrellas.\n",
    "#### - Con el paso del tiempo, los usuarios dejan una menor cantidad de críticas en los libros de ficción y muestran un mayor interés por los libros que no son de ficción. "
   ]
  }
 ],
 "metadata": {
  "kernelspec": {
   "display_name": "Python 3 (ipykernel)",
   "language": "python",
   "name": "python3"
  },
  "language_info": {
   "codemirror_mode": {
    "name": "ipython",
    "version": 3
   },
   "file_extension": ".py",
   "mimetype": "text/x-python",
   "name": "python",
   "nbconvert_exporter": "python",
   "pygments_lexer": "ipython3",
   "version": "3.7.12"
  }
 },
 "nbformat": 4,
 "nbformat_minor": 4
}
